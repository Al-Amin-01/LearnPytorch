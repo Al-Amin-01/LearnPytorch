{
  "nbformat": 4,
  "nbformat_minor": 0,
  "metadata": {
    "colab": {
      "provenance": [],
      "authorship_tag": "ABX9TyNvcEodCkJ69SVPmvAW8G3K",
      "include_colab_link": true
    },
    "kernelspec": {
      "name": "python3",
      "display_name": "Python 3"
    },
    "language_info": {
      "name": "python"
    }
  },
  "cells": [
    {
      "cell_type": "markdown",
      "metadata": {
        "id": "view-in-github",
        "colab_type": "text"
      },
      "source": [
        "<a href=\"https://colab.research.google.com/github/Al-Amin-01/LearnPytorch/blob/main/pytorchModel.ipynb\" target=\"_parent\"><img src=\"https://colab.research.google.com/assets/colab-badge.svg\" alt=\"Open In Colab\"/></a>"
      ]
    },
    {
      "cell_type": "code",
      "execution_count": null,
      "metadata": {
        "id": "g1-tx3GNeqBZ"
      },
      "outputs": [],
      "source": [
        "import torch\n",
        "from torch import nn\n",
        "import numpy as np\n",
        "import pandas as pd\n",
        "import matplotlib.pyplot as plt"
      ]
    },
    {
      "cell_type": "code",
      "source": [
        "torch.__version__"
      ],
      "metadata": {
        "colab": {
          "base_uri": "https://localhost:8080/",
          "height": 36
        },
        "id": "gTf5S-Coe7Ap",
        "outputId": "15f37ea0-971f-47ca-e747-3ec74195cbc2"
      },
      "execution_count": null,
      "outputs": [
        {
          "output_type": "execute_result",
          "data": {
            "text/plain": [
              "'2.1.0+cu118'"
            ],
            "application/vnd.google.colaboratory.intrinsic+json": {
              "type": "string"
            }
          },
          "metadata": {},
          "execution_count": 57
        }
      ]
    },
    {
      "cell_type": "code",
      "source": [
        "weight=.7\n",
        "bias=.4\n",
        "start=0\n",
        "end=1\n",
        "step=.02\n",
        "\n",
        "X=torch.arange(start,end,step)\n",
        "y=weight*X+bias"
      ],
      "metadata": {
        "id": "MKhPEufPe_sR"
      },
      "execution_count": null,
      "outputs": []
    },
    {
      "cell_type": "code",
      "source": [
        "split=int(.8*len(X))\n",
        "X_train,y_train=X[:split],y[:split]\n",
        "X_test,y_test=X[split:],y[split:]\n",
        "X_train,y_train,X_test,y_test"
      ],
      "metadata": {
        "colab": {
          "base_uri": "https://localhost:8080/"
        },
        "id": "_m5VhCasfPTu",
        "outputId": "22c8908f-fd69-4720-bcb4-504a559e1d0c"
      },
      "execution_count": null,
      "outputs": [
        {
          "output_type": "execute_result",
          "data": {
            "text/plain": [
              "(tensor([0.0000, 0.0200, 0.0400, 0.0600, 0.0800, 0.1000, 0.1200, 0.1400, 0.1600,\n",
              "         0.1800, 0.2000, 0.2200, 0.2400, 0.2600, 0.2800, 0.3000, 0.3200, 0.3400,\n",
              "         0.3600, 0.3800, 0.4000, 0.4200, 0.4400, 0.4600, 0.4800, 0.5000, 0.5200,\n",
              "         0.5400, 0.5600, 0.5800, 0.6000, 0.6200, 0.6400, 0.6600, 0.6800, 0.7000,\n",
              "         0.7200, 0.7400, 0.7600, 0.7800]),\n",
              " tensor([0.4000, 0.4140, 0.4280, 0.4420, 0.4560, 0.4700, 0.4840, 0.4980, 0.5120,\n",
              "         0.5260, 0.5400, 0.5540, 0.5680, 0.5820, 0.5960, 0.6100, 0.6240, 0.6380,\n",
              "         0.6520, 0.6660, 0.6800, 0.6940, 0.7080, 0.7220, 0.7360, 0.7500, 0.7640,\n",
              "         0.7780, 0.7920, 0.8060, 0.8200, 0.8340, 0.8480, 0.8620, 0.8760, 0.8900,\n",
              "         0.9040, 0.9180, 0.9320, 0.9460]),\n",
              " tensor([0.8000, 0.8200, 0.8400, 0.8600, 0.8800, 0.9000, 0.9200, 0.9400, 0.9600,\n",
              "         0.9800]),\n",
              " tensor([0.9600, 0.9740, 0.9880, 1.0020, 1.0160, 1.0300, 1.0440, 1.0580, 1.0720,\n",
              "         1.0860]))"
            ]
          },
          "metadata": {},
          "execution_count": 59
        }
      ]
    },
    {
      "cell_type": "code",
      "source": [
        "class LinearRegression(nn.Module):\n",
        "  def __init__(self):\n",
        "    super().__init__()\n",
        "    self.weight=nn.Parameter(torch.randn(1,\n",
        "                                         requires_grad=True,\n",
        "                                         dtype=torch.float))\n",
        "    self.bias=nn.Parameter(torch.randn(1,\n",
        "                                       requires_grad=True,\n",
        "                                       dtype=torch.float))\n",
        "  def forward(self,x:torch.tensor)->torch.tensor:\n",
        "    return self.weight*x+self.bias"
      ],
      "metadata": {
        "id": "CKQycsjfgFEF"
      },
      "execution_count": null,
      "outputs": []
    },
    {
      "cell_type": "code",
      "source": [
        "model_lr=LinearRegression()\n",
        "model_lr,model_lr.state_dict()"
      ],
      "metadata": {
        "colab": {
          "base_uri": "https://localhost:8080/"
        },
        "id": "JEmF0IBmhD_L",
        "outputId": "aef2da7e-0fe4-4180-bd04-495ec8f7c630"
      },
      "execution_count": null,
      "outputs": [
        {
          "output_type": "execute_result",
          "data": {
            "text/plain": [
              "(LinearRegression(),\n",
              " OrderedDict([('weight', tensor([0.2345])), ('bias', tensor([0.2303]))]))"
            ]
          },
          "metadata": {},
          "execution_count": 61
        }
      ]
    },
    {
      "cell_type": "code",
      "source": [
        "def plot_predictions(train_data=X_train,\n",
        "                     train_labels=y_train,\n",
        "                     test_data=X_test,\n",
        "                     test_labels=y_test,\n",
        "                     predictions=None):\n",
        "  plt.figure(figsize=(7,5))\n",
        "  plt.scatter(train_data,train_labels,c=\"b\",s=4,label=\"Training data\")\n",
        "  plt.scatter(test_data,test_labels,c=\"g\",s=4,label=\"Testing data\")\n",
        "\n",
        "  if predictions is not None:\n",
        "    plt.scatter(predictions,test_labels,c=\"r\",s=4,label=\"Predictions data\")\n",
        "\n",
        "  plt.title(\"plot the training and testing data\")\n",
        "  plt.legend(prop={\"size\":12})"
      ],
      "metadata": {
        "id": "EYaHCVX4hPA8"
      },
      "execution_count": null,
      "outputs": []
    },
    {
      "cell_type": "code",
      "source": [
        "plot_predictions()"
      ],
      "metadata": {
        "colab": {
          "base_uri": "https://localhost:8080/",
          "height": 468
        },
        "id": "Ow9pjTbyiXvM",
        "outputId": "2e18d70d-4ce0-4ba4-d752-6b1842412262"
      },
      "execution_count": null,
      "outputs": [
        {
          "output_type": "display_data",
          "data": {
            "text/plain": [
              "<Figure size 700x500 with 1 Axes>"
            ],
            "image/png": "[encoded data removed]"
          },
          "metadata": {}
        }
      ]
    },
    {
      "cell_type": "code",
      "source": [
        "torch.manual_seed(42)\n",
        "model_lr=LinearRegression()\n",
        "model_lr,model_lr.state_dict()"
      ],
      "metadata": {
        "colab": {
          "base_uri": "https://localhost:8080/"
        },
        "id": "sCNiXhS5ifqn",
        "outputId": "fb126ee6-4889-45b0-d777-251ee8c78c54"
      },
      "execution_count": null,
      "outputs": [
        {
          "output_type": "execute_result",
          "data": {
            "text/plain": [
              "(LinearRegression(),\n",
              " OrderedDict([('weight', tensor([0.3367])), ('bias', tensor([0.1288]))]))"
            ]
          },
          "metadata": {},
          "execution_count": 64
        }
      ]
    },
    {
      "cell_type": "code",
      "source": [
        "loss_fn=nn.L1Loss()\n",
        "optimizer=torch.optim.SGD(params=model_lr.parameters(),lr=.01)"
      ],
      "metadata": {
        "id": "zCP2W0gJiuTj"
      },
      "execution_count": null,
      "outputs": []
    },
    {
      "cell_type": "code",
      "source": [
        "epochs=200\n",
        "epoch_count=[]\n",
        "loss_val=[]\n",
        "test_loss_val=[]\n",
        "for epoch in range(epochs):\n",
        "  model_lr.train()\n",
        "  y_pred=model_lr(X_train)\n",
        "  loss=loss_fn(y_pred,y_train)\n",
        "  optimizer.zero_grad()\n",
        "  loss.backward()\n",
        "  optimizer.step()\n",
        "  model_lr.eval()\n",
        "  with torch.inference_mode():\n",
        "    y_pred_test=model_lr(X_test)\n",
        "    test_loss=loss_fn(y_pred_test,y_test)\n",
        "  if epoch%10==0:\n",
        "    epoch_count.append(epoch)\n",
        "    loss_val.append(loss)\n",
        "    test_loss_val.append(test_loss)\n"
      ],
      "metadata": {
        "id": "qBskrkr6jHYM"
      },
      "execution_count": null,
      "outputs": []
    },
    {
      "cell_type": "code",
      "source": [
        "with torch.inference_mode():\n",
        "  y_preds=model_lr(X_test)"
      ],
      "metadata": {
        "id": "EgqBCA7Kknx0"
      },
      "execution_count": null,
      "outputs": []
    },
    {
      "cell_type": "code",
      "source": [
        "y_preds"
      ],
      "metadata": {
        "colab": {
          "base_uri": "https://localhost:8080/"
        },
        "id": "D0THCeINkzCo",
        "outputId": "1f5ab512-3115-4d29-b09a-de89444f41c7"
      },
      "execution_count": null,
      "outputs": [
        {
          "output_type": "execute_result",
          "data": {
            "text/plain": [
              "tensor([0.9475, 0.9613, 0.9751, 0.9889, 1.0027, 1.0165, 1.0303, 1.0441, 1.0579,\n",
              "        1.0717])"
            ]
          },
          "metadata": {},
          "execution_count": 68
        }
      ]
    },
    {
      "cell_type": "code",
      "source": [
        "y_test"
      ],
      "metadata": {
        "colab": {
          "base_uri": "https://localhost:8080/"
        },
        "id": "jHIyf5gtk7uJ",
        "outputId": "ef21a861-ebaa-44f8-cd9b-64e0d172d0d5"
      },
      "execution_count": null,
      "outputs": [
        {
          "output_type": "execute_result",
          "data": {
            "text/plain": [
              "tensor([0.9600, 0.9740, 0.9880, 1.0020, 1.0160, 1.0300, 1.0440, 1.0580, 1.0720,\n",
              "        1.0860])"
            ]
          },
          "metadata": {},
          "execution_count": 69
        }
      ]
    },
    {
      "cell_type": "code",
      "source": [
        "plot_predictions(predictions=y_preds)"
      ],
      "metadata": {
        "colab": {
          "base_uri": "https://localhost:8080/",
          "height": 468
        },
        "id": "TirZIUxQkgQl",
        "outputId": "8fe256c0-5e48-4cc8-a114-a8ae917c1c86"
      },
      "execution_count": null,
      "outputs": [
        {
          "output_type": "display_data",
          "data": {
            "text/plain": [
              "<Figure size 700x500 with 1 Axes>"
            ],
            "image/png": "[encoded data removed]"
          },
          "metadata": {}
        }
      ]
    },
    {
      "cell_type": "code",
      "source": [
        "plt.plot(epoch_count,torch.tensor(loss_val).numpy(),label=\"Train loss\")\n",
        "plt.plot(epoch_count,test_loss_val,label=\"Test loss\")\n",
        "plt.title(\"loss diagram\")\n",
        "plt.xlabel(\"epochs\")\n",
        "plt.ylabel(\"loss\")\n",
        "plt.legend()"
      ],
      "metadata": {
        "colab": {
          "base_uri": "https://localhost:8080/",
          "height": 489
        },
        "id": "Ch7yiLo5l9Uo",
        "outputId": "5386f197-8bc5-4a15-a7e7-f337c14f2f39"
      },
      "execution_count": null,
      "outputs": [
        {
          "output_type": "execute_result",
          "data": {
            "text/plain": [
              "<matplotlib.legend.Legend at 0x797c8c4ce1a0>"
            ]
          },
          "metadata": {},
          "execution_count": 71
        },
        {
          "output_type": "display_data",
          "data": {
            "text/plain": [
              "<Figure size 640x480 with 1 Axes>"
            ],
            "image/png": "[encoded data removed]"
          },
          "metadata": {}
        }
      ]
    },
    {
      "cell_type": "code",
      "source": [
        "model_lr.state_dict()"
      ],
      "metadata": {
        "colab": {
          "base_uri": "https://localhost:8080/"
        },
        "id": "QlgI4zU_nyy3",
        "outputId": "cf2d5a11-bafe-4cc6-f941-f375e097304c"
      },
      "execution_count": null,
      "outputs": [
        {
          "output_type": "execute_result",
          "data": {
            "text/plain": [
              "OrderedDict([('weight', tensor([0.6902])), ('bias', tensor([0.3953]))])"
            ]
          },
          "metadata": {},
          "execution_count": 72
        }
      ]
    },
    {
      "cell_type": "code",
      "source": [
        "weight,bias"
      ],
      "metadata": {
        "colab": {
          "base_uri": "https://localhost:8080/"
        },
        "id": "T3IkN54rn4Kh",
        "outputId": "6cdffcc2-0062-4b5b-f565-683317b716ba"
      },
      "execution_count": null,
      "outputs": [
        {
          "output_type": "execute_result",
          "data": {
            "text/plain": [
              "(0.7, 0.4)"
            ]
          },
          "metadata": {},
          "execution_count": 73
        }
      ]
    },
    {
      "cell_type": "code",
      "source": [
        "from pathlib import Path\n",
        "\n",
        "MODEL_PATH=Path(\"models\")\n",
        "MODEL_PATH.mkdir(parents=True,exist_ok=True)\n",
        "\n",
        "MODEL_NAME=\"lrmodel.pth\"\n",
        "MODEL_SAVE_PATH=MODEL_PATH/MODEL_NAME\n",
        "torch.save(obj=model_lr.state_dict(),\n",
        "           f=MODEL_SAVE_PATH)"
      ],
      "metadata": {
        "id": "BfFYsUvxn-h4"
      },
      "execution_count": 81,
      "outputs": []
    },
    {
      "cell_type": "code",
      "source": [
        "load_model=LinearRegression()\n",
        "load_model.load_state_dict(torch.load(f=MODEL_SAVE_PATH))\n",
        "load_model.state_dict()"
      ],
      "metadata": {
        "colab": {
          "base_uri": "https://localhost:8080/"
        },
        "id": "aFzvGwHZpctz",
        "outputId": "21ebff17-22fe-4526-8b67-d89d37a4c7bb"
      },
      "execution_count": 82,
      "outputs": [
        {
          "output_type": "execute_result",
          "data": {
            "text/plain": [
              "OrderedDict([('weight', tensor([0.6902])), ('bias', tensor([0.3953]))])"
            ]
          },
          "metadata": {},
          "execution_count": 82
        }
      ]
    }
  ]
}